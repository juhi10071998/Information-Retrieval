{
  "nbformat": 4,
  "nbformat_minor": 0,
  "metadata": {
    "colab": {
      "name": "Search.ipynb",
      "provenance": []
    },
    "kernelspec": {
      "name": "python3",
      "display_name": "Python 3"
    },
    "language_info": {
      "name": "python"
    }
  },
  "cells": [
    {
      "cell_type": "code",
      "metadata": {
        "colab": {
          "base_uri": "https://localhost:8080/"
        },
        "id": "W50VyxvoG_lQ",
        "outputId": "561d34d7-1d74-4c71-b26c-95f2ffb2c84f"
      },
      "source": [
        "from google.colab import drive\n",
        "drive.mount('/content/gdrive')"
      ],
      "execution_count": 1,
      "outputs": [
        {
          "output_type": "stream",
          "text": [
            "Mounted at /content/gdrive\n"
          ],
          "name": "stdout"
        }
      ]
    },
    {
      "cell_type": "code",
      "metadata": {
        "colab": {
          "base_uri": "https://localhost:8080/"
        },
        "id": "fGTcwVQ0IIWQ",
        "outputId": "50bd34a8-8f28-4415-93a3-0fce86501f2a"
      },
      "source": [
        "import pandas as pd\n",
        "import base64\n",
        "import numpy as np\n",
        "from math import log\n",
        "import os\n",
        "import scipy\n",
        "import gensim\n",
        "import re\n",
        "from copy import deepcopy\n",
        "import nltk\n",
        "from nltk.stem import WordNetLemmatizer\n",
        "from nltk import word_tokenize\n",
        "import gensim.corpora as corpora\n",
        "import itertools\n",
        "import nltk\n",
        "nltk.download('stopwords')\n",
        "nltk.download('punkt')\n",
        "nltk.download('wordnet')\n",
        "from nltk.corpus import stopwords\n",
        "stops = stopwords.words('english')\n",
        "\n",
        "''' This method removes all kinds of line breaks. '''\n",
        "def removeLineBreaks(tweet):\n",
        "    return re.sub(\"\\n\\r|\\r\\n|\\n|\\r\",\" \", tweet)\n",
        "\n",
        "''' This method removes all the url's in the tweet'''\n",
        "def removeURLs(tweet):\n",
        "    return re.sub(\"(http|ftp|https)://([\\w_-]+(?:(?:\\.[\\w_-]+)+))([\\w.,@?^=%&:/~+#-]*[\\w@?^=%&/~+#-])?\", \" \", tweet)\n",
        "\n",
        "''' This method removes all emojis from the tweet'''\n",
        "def removeEmojis(tweet):\n",
        "    tweet = tweet.encode('ascii', 'ignore').decode('ascii')\n",
        "    return tweet\n",
        "\n",
        "''' This method checks if the tweet is a retweet or not.\n",
        "    a retweet contains RT @***** '''\n",
        "def isRetweet(tweet):\n",
        "    retweet = re.compile(\"RT @[A-Za-z0-9]*:\")\n",
        "    retweet.match(tweet)\n",
        "\n",
        "    return bool(re.search(\"RT @[A-Za-z0-9]*:\", tweet))\n",
        "\n",
        "''' This method removes the retweet tag from tweets'''\n",
        "def removeRTtag(tweet):\n",
        "    return re.sub(\"RT @[A-Za-z0-9]*: \", \" \", tweet)\n",
        "\n",
        "''' This method removes all the mentions.\n",
        "    mentions are usually with @'''\n",
        "def removeMentions(tweet):\n",
        "    return re.sub(\"@[A-Za-z0-9]*\", \" \", tweet)\n",
        "\n",
        "''' This method removes multiple spaces.'''\n",
        "def removeMultipleSpaces(tweet):\n",
        "    return re.sub(\" +\", \" \", tweet)\n",
        "\n",
        "''' This method turns the tweets into lowercase. '''\n",
        "def lowercasetweet(tweet):\n",
        "    return tweet.lower()\n",
        "\n",
        "''' This method removes all the punctuations from the tweet.'''\n",
        "def removePunctuations(tweet):\n",
        "    return re.sub(\"[.,!'\\\";:?…]+\", \" \", tweet)\n",
        "\n",
        "''' This method removes special characters from tweets.'''\n",
        "def removeSpecialCharacters(tweet):\n",
        "    return re.sub(\"[@#$%^*(){}\\\\\\<>\\[\\]~/|=\\+\\-&_¿ߒ]+\",\" \", tweet)\n",
        "\n",
        "''' This method removes alpha-numeric charcters from the tweet.'''\n",
        "def removeAlphaNumeric(tweet):\n",
        "    # return re.sub(\"[A-Za-z]+[0-9]+\", \"\", tweet)\n",
        "    return re.sub(\"[0-9]+\", \"\", tweet)\n",
        "\n",
        "''' Lemmatization using nltk. '''\n",
        "def lemmatizeTweet(tweet):\n",
        "    return [WordNetLemmatizer().lemmatize(token) for token in word_tokenize(tweet)]\n",
        "\n",
        "def cleanData(text, lowercase = False, remove_stops = False, stemming = False, lemmatization = False):\n",
        "    txt = str(text)\n",
        "\n",
        "    # Replace apostrophes with standard lexicons\n",
        "    txt = txt.replace(\"isn't\", \"is not\")\n",
        "    txt = txt.replace(\"aren't\", \"are not\")\n",
        "    txt = txt.replace(\"ain't\", \"am not\")\n",
        "    txt = txt.replace(\"won't\", \"will not\")\n",
        "    txt = txt.replace(\"didn't\", \"did not\")\n",
        "    txt = txt.replace(\"shan't\", \"shall not\")\n",
        "    txt = txt.replace(\"haven't\", \"have not\")\n",
        "    txt = txt.replace(\"hadn't\", \"had not\")\n",
        "    txt = txt.replace(\"hasn't\", \"has not\")\n",
        "    txt = txt.replace(\"don't\", \"do not\")\n",
        "    txt = txt.replace(\"wasn't\", \"was not\")\n",
        "    txt = txt.replace(\"weren't\", \"were not\")\n",
        "    txt = txt.replace(\"doesn't\", \"does not\")\n",
        "    txt = txt.replace(\"'s\", \" is\")\n",
        "    txt = txt.replace(\"'re\", \" are\")\n",
        "    txt = txt.replace(\"'m\", \" am\")\n",
        "    txt = txt.replace(\"'d\", \" would\")\n",
        "    txt = txt.replace(\"'ll\", \" will\")\n",
        "\n",
        "    # Emoji replacement\n",
        "    txt = re.sub(r':\\)',r' happy ',txt)\n",
        "    txt = re.sub(r':D',r' happy ',txt)\n",
        "    txt = re.sub(r':P',r' happy ',txt)\n",
        "    txt = re.sub(r':\\(',r' sad ',txt)\n",
        "\n",
        "    # Replace words like sooooooo with so\n",
        "    txt = ''.join(''.join(s)[:2] for _, s in itertools.groupby(txt))\n",
        "    return txt"
      ],
      "execution_count": 2,
      "outputs": [
        {
          "output_type": "stream",
          "text": [
            "[nltk_data] Downloading package stopwords to /root/nltk_data...\n",
            "[nltk_data]   Unzipping corpora/stopwords.zip.\n",
            "[nltk_data] Downloading package punkt to /root/nltk_data...\n",
            "[nltk_data]   Unzipping tokenizers/punkt.zip.\n",
            "[nltk_data] Downloading package wordnet to /root/nltk_data...\n",
            "[nltk_data]   Unzipping corpora/wordnet.zip.\n"
          ],
          "name": "stdout"
        }
      ]
    },
    {
      "cell_type": "code",
      "metadata": {
        "id": "Hr_-c_V4IOe6"
      },
      "source": [
        "import pickle\n",
        "pickle_in = open(\"/content/gdrive/My Drive/IR Assignment/inverted_index.pickle\",\"rb\")\n",
        "ii = pickle.load(pickle_in)\n",
        "pickle_in = open(\"/content/gdrive/My Drive/IR Assignment/count_word.pickle\",\"rb\")\n",
        "cw = pickle.load(pickle_in)\n",
        "pickle_in = open(\"/content/gdrive/My Drive/IR Assignment/count_per_document.pickle\",\"rb\")\n",
        "cd = pickle.load(pickle_in)\n",
        "pickle_in = open(\"/content/gdrive/My Drive/IR Assignment/similarity_score.pickle\",\"rb\")\n",
        "ss = pickle.load(pickle_in)\n",
        "documents = np.load('/content/gdrive/My Drive/IR Assignment/IR_assignment.npy',allow_pickle=True)"
      ],
      "execution_count": 3,
      "outputs": []
    },
    {
      "cell_type": "code",
      "metadata": {
        "colab": {
          "base_uri": "https://localhost:8080/"
        },
        "id": "mVN2SZvlIOjQ",
        "outputId": "dffb1266-3a9d-4758-9098-c8ad06d28be9"
      },
      "source": [
        "search = input(\"Enter search query:\")\n",
        "query = []\n",
        "ll = lemmatizeTweet(removeMultipleSpaces(removeURLs(removeMentions(removeEmojis(removeSpecialCharacters(removePunctuations(removeAlphaNumeric(cleanData(removeLineBreaks(search.lower()))))))))))\n",
        "for word in ll:\n",
        "  if word not in stops:\n",
        "    query.append(word.lower())"
      ],
      "execution_count": 4,
      "outputs": [
        {
          "output_type": "stream",
          "text": [
            "Enter search query:I didn't really feel I was worth anyones time here today too\n"
          ],
          "name": "stdout"
        }
      ]
    },
    {
      "cell_type": "code",
      "metadata": {
        "id": "9c5LQdb4IOmI"
      },
      "source": [
        "doc_score={}\n",
        "for line in documents:\n",
        "  doc_score[line[0]]=[]"
      ],
      "execution_count": 6,
      "outputs": []
    },
    {
      "cell_type": "code",
      "metadata": {
        "id": "sBKcyqk1IOrq"
      },
      "source": [
        "for word in query:\n",
        "  for similar_word in ss[word]:\n",
        "    for docs in ii[similar_word[0]]:\n",
        "      score = docs.split(':')\n",
        "      doc_score[score[0]].append([-1 * similar_word[1] * log(cd[score[0]][similar_word[0]] / cw[similar_word[0]]),word,score[1]])"
      ],
      "execution_count": 7,
      "outputs": []
    },
    {
      "cell_type": "code",
      "metadata": {
        "colab": {
          "base_uri": "https://localhost:8080/"
        },
        "id": "44Wa5NuOIcfw",
        "outputId": "effe11b6-a25f-4fad-f7ec-90d2bd6a69c9"
      },
      "source": [
        "print(doc_score['1'])"
      ],
      "execution_count": 8,
      "outputs": [
        {
          "output_type": "stream",
          "text": [
            "[[7.7488913372555315, 'feel', '22'], [5.16696298892839, 'feel', '106'], [3.7596282297817676, 'feel', '59'], [3.7596282297817676, 'feel', '69'], [3.7596282297817676, 'feel', '77'], [3.7596282297817676, 'feel', '82'], [5.8805329864007, 'worth', '90'], [6.904750769961838, 'time', '102'], [6.904750769961838, 'time', '121']]\n"
          ],
          "name": "stdout"
        }
      ]
    },
    {
      "cell_type": "code",
      "metadata": {
        "colab": {
          "base_uri": "https://localhost:8080/"
        },
        "id": "q91DpM8QIckw",
        "outputId": "7561b807-758f-4514-80ef-43d9296aa3b6"
      },
      "source": [
        "print(cd['1']['happy'])\n",
        "doc_score['1'][0:cd['1']['happy']]"
      ],
      "execution_count": 9,
      "outputs": [
        {
          "output_type": "stream",
          "text": [
            "2\n"
          ],
          "name": "stdout"
        },
        {
          "output_type": "execute_result",
          "data": {
            "text/plain": [
              "[[7.7488913372555315, 'feel', '22'], [5.16696298892839, 'feel', '106']]"
            ]
          },
          "metadata": {
            "tags": []
          },
          "execution_count": 9
        }
      ]
    },
    {
      "cell_type": "code",
      "metadata": {
        "id": "J6cBrKsuIgjj"
      },
      "source": [
        "score = {}\n",
        "for key in doc_score:\n",
        "  score[key]=0\n",
        "  if len(doc_score[key])!=0:\n",
        "    for index1 in range(len(doc_score[key])):\n",
        "      score[key] += (doc_score[key][index1][0])\n",
        "      index2 = index1+1\n",
        "      while index2<len(doc_score[key]):\n",
        "        if (doc_score[key][index1][1] != doc_score[key][index2][1]):\n",
        "          d = abs(int(doc_score[key][index1][-1])-int(doc_score[key][index2][-1]))\n",
        "          if d <= 9:\n",
        "            score[key]+= (1-d/10)*(doc_score[key][index1][0])*(doc_score[key][index2][0])\n",
        "        index2+=1"
      ],
      "execution_count": 10,
      "outputs": []
    },
    {
      "cell_type": "code",
      "metadata": {
        "colab": {
          "base_uri": "https://localhost:8080/"
        },
        "id": "6P-Jywf4Igmi",
        "outputId": "d8de0583-72c9-40c8-c831-9c634bc48c2a"
      },
      "source": [
        "print(sorted(score.items(),key=lambda x:x[1],reverse = True)[:11])"
      ],
      "execution_count": 11,
      "outputs": [
        {
          "output_type": "stream",
          "text": [
            "[('1317', 801.8298714840205), ('1350', 750.1965114437847), ('1014', 632.8548861741922), ('376', 627.6751856655794), ('1522', 620.7945943764591), ('5282', 586.3396966862915), ('3786', 582.8185049118176), ('5152', 579.9301423300436), ('315', 555.7873558675733), ('5569', 554.4699753262745), ('5143', 550.0932483008615)]\n"
          ],
          "name": "stdout"
        }
      ]
    },
    {
      "cell_type": "code",
      "metadata": {
        "id": "P0JAmjg3K99G"
      },
      "source": [
        ""
      ],
      "execution_count": null,
      "outputs": []
    }
  ]
}